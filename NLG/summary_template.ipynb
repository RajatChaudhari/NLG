{
 "cells": [
  {
   "cell_type": "code",
   "execution_count": 2,
   "metadata": {},
   "outputs": [],
   "source": [
    "import pandas as pd\n",
    "import datetime"
   ]
  },
  {
   "cell_type": "code",
   "execution_count": 3,
   "metadata": {},
   "outputs": [],
   "source": [
    "data=pd.read_csv(\"AZURE-FG_605.csv\")"
   ]
  },
  {
   "cell_type": "code",
   "execution_count": 4,
   "metadata": {
    "scrolled": true
   },
   "outputs": [
    {
     "data": {
      "text/html": [
       "<div>\n",
       "<style scoped>\n",
       "    .dataframe tbody tr th:only-of-type {\n",
       "        vertical-align: middle;\n",
       "    }\n",
       "\n",
       "    .dataframe tbody tr th {\n",
       "        vertical-align: top;\n",
       "    }\n",
       "\n",
       "    .dataframe thead th {\n",
       "        text-align: right;\n",
       "    }\n",
       "</style>\n",
       "<table border=\"1\" class=\"dataframe\">\n",
       "  <thead>\n",
       "    <tr style=\"text-align: right;\">\n",
       "      <th></th>\n",
       "      <th>LOC_ID</th>\n",
       "      <th>PROD_ID</th>\n",
       "      <th>PERIOD</th>\n",
       "      <th>PLANNING_PERIOD</th>\n",
       "      <th>FINAL_FCST</th>\n",
       "      <th>STAT_FCST_QTY</th>\n",
       "      <th>CORRECTED_FCST_QTY</th>\n",
       "      <th>AIP_FCST</th>\n",
       "      <th>SALES_HISTORY</th>\n",
       "      <th>AIP_YEAR_TREND</th>\n",
       "      <th>...</th>\n",
       "      <th>STAT_YEAR_TREND</th>\n",
       "      <th>AIP_TREND</th>\n",
       "      <th>CORR_TREND</th>\n",
       "      <th>STAT_TREND</th>\n",
       "      <th>AIP_YEAR_MEAN</th>\n",
       "      <th>CORR_YEAR_MEAN</th>\n",
       "      <th>STAT_YESR_MEAN</th>\n",
       "      <th>AIP_MEAN</th>\n",
       "      <th>CORR_MEAN</th>\n",
       "      <th>STAT_MEAN</th>\n",
       "    </tr>\n",
       "  </thead>\n",
       "  <tbody>\n",
       "    <tr>\n",
       "      <th>0</th>\n",
       "      <td>FLORIDA</td>\n",
       "      <td>FG_605</td>\n",
       "      <td>2019-08-01</td>\n",
       "      <td>2019-08-01</td>\n",
       "      <td>NaN</td>\n",
       "      <td>15.0</td>\n",
       "      <td>16.148219</td>\n",
       "      <td>14.151412</td>\n",
       "      <td>0.0</td>\n",
       "      <td>15.462065</td>\n",
       "      <td>...</td>\n",
       "      <td>14.958333</td>\n",
       "      <td>15.462065</td>\n",
       "      <td>16.103363</td>\n",
       "      <td>14.958333</td>\n",
       "      <td>15.462065</td>\n",
       "      <td>16.103363</td>\n",
       "      <td>14.958333</td>\n",
       "      <td>15.462065</td>\n",
       "      <td>16.103363</td>\n",
       "      <td>14.958333</td>\n",
       "    </tr>\n",
       "    <tr>\n",
       "      <th>1</th>\n",
       "      <td>FLORIDA</td>\n",
       "      <td>FG_605</td>\n",
       "      <td>2019-08-01</td>\n",
       "      <td>2019-09-01</td>\n",
       "      <td>NaN</td>\n",
       "      <td>14.0</td>\n",
       "      <td>15.071671</td>\n",
       "      <td>14.886503</td>\n",
       "      <td>0.0</td>\n",
       "      <td>15.462065</td>\n",
       "      <td>...</td>\n",
       "      <td>14.958333</td>\n",
       "      <td>15.462065</td>\n",
       "      <td>16.103363</td>\n",
       "      <td>14.958333</td>\n",
       "      <td>15.462065</td>\n",
       "      <td>16.103363</td>\n",
       "      <td>14.958333</td>\n",
       "      <td>15.462065</td>\n",
       "      <td>16.103363</td>\n",
       "      <td>14.958333</td>\n",
       "    </tr>\n",
       "    <tr>\n",
       "      <th>2</th>\n",
       "      <td>FLORIDA</td>\n",
       "      <td>FG_605</td>\n",
       "      <td>2019-08-01</td>\n",
       "      <td>2019-10-01</td>\n",
       "      <td>NaN</td>\n",
       "      <td>14.0</td>\n",
       "      <td>15.071671</td>\n",
       "      <td>14.886503</td>\n",
       "      <td>0.0</td>\n",
       "      <td>15.462065</td>\n",
       "      <td>...</td>\n",
       "      <td>14.958333</td>\n",
       "      <td>15.462065</td>\n",
       "      <td>16.103363</td>\n",
       "      <td>14.958333</td>\n",
       "      <td>15.462065</td>\n",
       "      <td>16.103363</td>\n",
       "      <td>14.958333</td>\n",
       "      <td>15.462065</td>\n",
       "      <td>16.103363</td>\n",
       "      <td>14.958333</td>\n",
       "    </tr>\n",
       "    <tr>\n",
       "      <th>3</th>\n",
       "      <td>FLORIDA</td>\n",
       "      <td>FG_605</td>\n",
       "      <td>2019-08-01</td>\n",
       "      <td>2019-11-01</td>\n",
       "      <td>NaN</td>\n",
       "      <td>15.0</td>\n",
       "      <td>16.148219</td>\n",
       "      <td>14.886503</td>\n",
       "      <td>0.0</td>\n",
       "      <td>15.462065</td>\n",
       "      <td>...</td>\n",
       "      <td>14.958333</td>\n",
       "      <td>15.462065</td>\n",
       "      <td>16.103363</td>\n",
       "      <td>14.958333</td>\n",
       "      <td>15.462065</td>\n",
       "      <td>16.103363</td>\n",
       "      <td>14.958333</td>\n",
       "      <td>15.462065</td>\n",
       "      <td>16.103363</td>\n",
       "      <td>14.958333</td>\n",
       "    </tr>\n",
       "    <tr>\n",
       "      <th>4</th>\n",
       "      <td>FLORIDA</td>\n",
       "      <td>FG_605</td>\n",
       "      <td>2019-08-01</td>\n",
       "      <td>2019-12-01</td>\n",
       "      <td>NaN</td>\n",
       "      <td>16.0</td>\n",
       "      <td>17.224767</td>\n",
       "      <td>14.490356</td>\n",
       "      <td>0.0</td>\n",
       "      <td>15.462065</td>\n",
       "      <td>...</td>\n",
       "      <td>14.958333</td>\n",
       "      <td>15.462065</td>\n",
       "      <td>16.103363</td>\n",
       "      <td>14.958333</td>\n",
       "      <td>15.462065</td>\n",
       "      <td>16.103363</td>\n",
       "      <td>14.958333</td>\n",
       "      <td>15.462065</td>\n",
       "      <td>16.103363</td>\n",
       "      <td>14.958333</td>\n",
       "    </tr>\n",
       "  </tbody>\n",
       "</table>\n",
       "<p>5 rows × 21 columns</p>\n",
       "</div>"
      ],
      "text/plain": [
       "    LOC_ID PROD_ID      PERIOD PLANNING_PERIOD  FINAL_FCST  STAT_FCST_QTY  \\\n",
       "0  FLORIDA  FG_605  2019-08-01      2019-08-01         NaN           15.0   \n",
       "1  FLORIDA  FG_605  2019-08-01      2019-09-01         NaN           14.0   \n",
       "2  FLORIDA  FG_605  2019-08-01      2019-10-01         NaN           14.0   \n",
       "3  FLORIDA  FG_605  2019-08-01      2019-11-01         NaN           15.0   \n",
       "4  FLORIDA  FG_605  2019-08-01      2019-12-01         NaN           16.0   \n",
       "\n",
       "   CORRECTED_FCST_QTY   AIP_FCST  SALES_HISTORY  AIP_YEAR_TREND  ...  \\\n",
       "0           16.148219  14.151412            0.0       15.462065  ...   \n",
       "1           15.071671  14.886503            0.0       15.462065  ...   \n",
       "2           15.071671  14.886503            0.0       15.462065  ...   \n",
       "3           16.148219  14.886503            0.0       15.462065  ...   \n",
       "4           17.224767  14.490356            0.0       15.462065  ...   \n",
       "\n",
       "   STAT_YEAR_TREND  AIP_TREND  CORR_TREND  STAT_TREND  AIP_YEAR_MEAN  \\\n",
       "0        14.958333  15.462065   16.103363   14.958333      15.462065   \n",
       "1        14.958333  15.462065   16.103363   14.958333      15.462065   \n",
       "2        14.958333  15.462065   16.103363   14.958333      15.462065   \n",
       "3        14.958333  15.462065   16.103363   14.958333      15.462065   \n",
       "4        14.958333  15.462065   16.103363   14.958333      15.462065   \n",
       "\n",
       "   CORR_YEAR_MEAN  STAT_YESR_MEAN   AIP_MEAN  CORR_MEAN  STAT_MEAN  \n",
       "0       16.103363       14.958333  15.462065  16.103363  14.958333  \n",
       "1       16.103363       14.958333  15.462065  16.103363  14.958333  \n",
       "2       16.103363       14.958333  15.462065  16.103363  14.958333  \n",
       "3       16.103363       14.958333  15.462065  16.103363  14.958333  \n",
       "4       16.103363       14.958333  15.462065  16.103363  14.958333  \n",
       "\n",
       "[5 rows x 21 columns]"
      ]
     },
     "execution_count": 4,
     "metadata": {},
     "output_type": "execute_result"
    }
   ],
   "source": [
    "data.head()"
   ]
  },
  {
   "cell_type": "code",
   "execution_count": 5,
   "metadata": {},
   "outputs": [],
   "source": [
    "loc_id=data.LOC_ID.unique()\n",
    "prod_id=data.PROD_ID.unique()"
   ]
  },
  {
   "cell_type": "code",
   "execution_count": 6,
   "metadata": {},
   "outputs": [
    {
     "name": "stdout",
     "output_type": "stream",
     "text": [
      "['FG_605']\n"
     ]
    }
   ],
   "source": [
    "print(prod_id)"
   ]
  },
  {
   "cell_type": "code",
   "execution_count": 7,
   "metadata": {},
   "outputs": [],
   "source": [
    "data['PLANNING_PERIOD']=pd.to_datetime(data['PLANNING_PERIOD'])\n",
    "planning_period_min=data['PLANNING_PERIOD'].min()\n",
    "planning_period_max=data['PLANNING_PERIOD'].max()\n",
    "planning_period_min=planning_period_min.strftime('%m/%d/%Y')\n",
    "planning_period_max=planning_period_max.strftime('%m/%d/%Y')"
   ]
  },
  {
   "cell_type": "code",
   "execution_count": 8,
   "metadata": {},
   "outputs": [
    {
     "data": {
      "text/plain": [
       "'08/01/2019'"
      ]
     },
     "execution_count": 8,
     "metadata": {},
     "output_type": "execute_result"
    }
   ],
   "source": [
    "planning_period_min"
   ]
  },
  {
   "cell_type": "code",
   "execution_count": 9,
   "metadata": {},
   "outputs": [],
   "source": [
    "AIP_FCST_min=data['AIP_FCST'].min()\n",
    "AIP_FCST_max=data['AIP_FCST'].max()"
   ]
  },
  {
   "cell_type": "code",
   "execution_count": 10,
   "metadata": {},
   "outputs": [
    {
     "name": "stdout",
     "output_type": "stream",
     "text": [
      "17.942501\n"
     ]
    }
   ],
   "source": [
    "print(AIP_FCST_max)"
   ]
  },
  {
   "cell_type": "code",
   "execution_count": 11,
   "metadata": {},
   "outputs": [],
   "source": [
    "pmax=data.loc[data['AIP_FCST']==AIP_FCST_max,'PLANNING_PERIOD']\n",
    "pmin=data.loc[data['AIP_FCST']==AIP_FCST_min,'PLANNING_PERIOD']"
   ]
  },
  {
   "cell_type": "code",
   "execution_count": 12,
   "metadata": {},
   "outputs": [],
   "source": [
    "pmn=pmin.iloc[0]\n",
    "pmn=pmn.strftime('%m/%d/%Y')\n",
    "pmx=pmax.iloc[0]\n",
    "pmx=pmx.strftime('%m/%d/%Y')"
   ]
  },
  {
   "cell_type": "code",
   "execution_count": 13,
   "metadata": {},
   "outputs": [],
   "source": [
    "AIP_FCST_min=str(AIP_FCST_min)\n",
    "AIP_FCST_max=str(AIP_FCST_max)"
   ]
  },
  {
   "cell_type": "code",
   "execution_count": 14,
   "metadata": {},
   "outputs": [],
   "source": [
    "base_qty=data['AIP_FCST'].head(1)\n",
    "last_qty=data['AIP_FCST'].tail(1)"
   ]
  },
  {
   "cell_type": "code",
   "execution_count": 15,
   "metadata": {},
   "outputs": [
    {
     "data": {
      "text/plain": [
       "13.755266"
      ]
     },
     "execution_count": 15,
     "metadata": {},
     "output_type": "execute_result"
    }
   ],
   "source": [
    "last_qty.iloc[0]"
   ]
  },
  {
   "cell_type": "code",
   "execution_count": 16,
   "metadata": {},
   "outputs": [],
   "source": [
    "trend=last_qty.iloc[0]/base_qty.iloc[0]\n",
    "if(trend>1):\n",
    "    trendval=\"positive\"\n",
    "else:\n",
    "    trendval=\"negative\""
   ]
  },
  {
   "cell_type": "code",
   "execution_count": 24,
   "metadata": {},
   "outputs": [],
   "source": [
    "sentence1=\"The graph shows planning forecast for the period of \" + planning_period_min + \" to \" + planning_period_max + \".\""
   ]
  },
  {
   "cell_type": "code",
   "execution_count": 18,
   "metadata": {},
   "outputs": [],
   "source": [
    "sentence2=\" It shows forecast for the combination of Loc_ID of \" + loc_id + \" and Prod_ID of \" + prod_id + \".\""
   ]
  },
  {
   "cell_type": "code",
   "execution_count": 19,
   "metadata": {},
   "outputs": [],
   "source": [
    "sentence3=\" Statistical forecast quantity varies from minimum of \" + AIP_FCST_min + \" and maximum of \" + AIP_FCST_max +\".\""
   ]
  },
  {
   "cell_type": "code",
   "execution_count": 20,
   "metadata": {},
   "outputs": [],
   "source": [
    "sentence4=\" There is \" +trendval+ \" trend in the AIP forecast for the given period.\""
   ]
  },
  {
   "cell_type": "code",
   "execution_count": 21,
   "metadata": {},
   "outputs": [],
   "source": [
    "sentence5=\" The forecast quantity is at peak at the time of \" + pmx+ \" and it is at lowest at the time of \" + pmn + \".\""
   ]
  },
  {
   "cell_type": "code",
   "execution_count": 27,
   "metadata": {},
   "outputs": [],
   "source": [
    "summary1=sentence1+sentence2+sentence3+sentence4+sentence5"
   ]
  },
  {
   "cell_type": "code",
   "execution_count": 26,
   "metadata": {},
   "outputs": [
    {
     "name": "stdout",
     "output_type": "stream",
     "text": [
      "['The graph shows planning forecast for the period of 08/01/2019 to 07/01/2021. It shows forecast for the combination of Loc_ID of FLORIDA and Prod_ID of FG_605. Statistical forecast quantity varies from minimum of 13.755266 and maximum of 17.942501. There is negative trend in the AIP forecast for the given period. The forecast quantity is at peak at the time of 01/01/2020 and it is at lowest at the time of 05/01/2020.']\n"
     ]
    }
   ],
   "source": [
    "print(summary)"
   ]
  },
  {
   "cell_type": "code",
   "execution_count": null,
   "metadata": {},
   "outputs": [],
   "source": [
    "period - 5 \n",
    "of - 6 \n",
    "planning_period_min - 0 \n",
    "to - 8\n",
    "planning_period_max - 1\n",
    "\n"
   ]
  },
  {
   "cell_type": "code",
   "execution_count": null,
   "metadata": {},
   "outputs": [],
   "source": [
    "5 6 0\n",
    "0 8 1"
   ]
  },
  {
   "cell_type": "code",
   "execution_count": null,
   "metadata": {},
   "outputs": [],
   "source": [
    "08/01/2019 0\n",
    "08/02/2019 1\n",
    "08/03/2019 2\n",
    "08/04/2019 3\n",
    "08/05/2019 4\n",
    "08/06/2019 5\n"
   ]
  },
  {
   "cell_type": "code",
   "execution_count": 28,
   "metadata": {},
   "outputs": [
    {
     "ename": "ModuleNotFoundError",
     "evalue": "No module named 'nltk'",
     "output_type": "error",
     "traceback": [
      "\u001b[1;31m---------------------------------------------------------------------------\u001b[0m",
      "\u001b[1;31mModuleNotFoundError\u001b[0m                       Traceback (most recent call last)",
      "\u001b[1;32m<ipython-input-28-1d2184025e54>\u001b[0m in \u001b[0;36m<module>\u001b[1;34m\u001b[0m\n\u001b[1;32m----> 1\u001b[1;33m \u001b[1;32mimport\u001b[0m \u001b[0mnltk\u001b[0m\u001b[1;33m\u001b[0m\u001b[1;33m\u001b[0m\u001b[0m\n\u001b[0m",
      "\u001b[1;31mModuleNotFoundError\u001b[0m: No module named 'nltk'"
     ]
    }
   ],
   "source": []
  },
  {
   "cell_type": "code",
   "execution_count": null,
   "metadata": {},
   "outputs": [],
   "source": []
  },
  {
   "cell_type": "code",
   "execution_count": null,
   "metadata": {},
   "outputs": [],
   "source": []
  },
  {
   "cell_type": "code",
   "execution_count": null,
   "metadata": {},
   "outputs": [],
   "source": []
  }
 ],
 "metadata": {
  "kernelspec": {
   "display_name": "Python 3",
   "language": "python",
   "name": "python3"
  },
  "language_info": {
   "codemirror_mode": {
    "name": "ipython",
    "version": 3
   },
   "file_extension": ".py",
   "mimetype": "text/x-python",
   "name": "python",
   "nbconvert_exporter": "python",
   "pygments_lexer": "ipython3",
   "version": "3.7.1"
  }
 },
 "nbformat": 4,
 "nbformat_minor": 2
}
