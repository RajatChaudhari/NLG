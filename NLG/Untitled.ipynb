{
 "cells": [
  {
   "cell_type": "code",
   "execution_count": 1,
   "metadata": {},
   "outputs": [
    {
     "name": "stderr",
     "output_type": "stream",
     "text": [
      "Using TensorFlow backend.\n"
     ]
    }
   ],
   "source": [
    "import keras"
   ]
  },
  {
   "cell_type": "code",
   "execution_count": 16,
   "metadata": {},
   "outputs": [],
   "source": [
    "import numpy as np\n",
    "import pandas as pd\n",
    "from tensorflow.keras.models import Sequential\n",
    "from tensorflow.keras.layers import Dense\n",
    "from tensorflow.keras.layers import Dropout\n",
    "from tensorflow.keras.layers import LSTM\n",
    "from keras.utils import np_utils\n",
    "from tensorflow.keras.callbacks import ModelCheckpoint"
   ]
  },
  {
   "cell_type": "code",
   "execution_count": 3,
   "metadata": {},
   "outputs": [],
   "source": [
    "data=open(\"../NLG/summary_types.txt\", 'r', encoding='utf-8').read()"
   ]
  },
  {
   "cell_type": "code",
   "execution_count": 4,
   "metadata": {},
   "outputs": [
    {
     "data": {
      "text/plain": [
       "'The above graph shows sales history and sales forecast for product PROD_ID at LOC_ID.\\nThe sales history is taken into consideration is between SALES_HISTORY_SDATE and SALES_HISTORY_EDATE. \\nAs we can see in the graph it attained its peak of PEAK_VAL which was recorded at PEAK_DATE and recorded lowest sales of MINVAL at MINDATE.\\nThe average sales during this period was AVG_SALES.\\nThe year wise mean for years START_YEAR to END_YEAR are YEALRY_AVG and the yearly trend for year START_YEAR to END_YEAR are TREND.\\nThe Finalized planner forecast predicts the future trend for period PFS_YEAR to PFE_YEAR, it predicts the maximum sales of PMAX_SALES on PMAX_DATE and lowest sales recording PMIN_SALES at PMIN_DATE.\\nThe finalized planner forecast predicts an average sales of FP_AVG for this period.\\nFor Finalized planner forecast the year wise mean for years FP_START_YEAR to FP_END_YEAR are FPF_YEARLY_AVG and the yearly TREND for year FP_START_YEAR to FP_END_YEAR are FPS_TREND.\\nSimilarly, the corrected forecast for this period predicts the maximum sales of CF_MAX on CF_MAX_DATE and lowest sales recording CF_MIN at CF_MIN_DATE. \\nThe corrected forecast predicts an average sales of CF_AVG for this period.\\nThe Corrected forecast year wise mean for years CF_START_YEAR to CF_END_YEAR are CF_YEARLY_AVG and the yearly trend for year CF_START_YEAR to CF_END_YEAR are CF_TREND.\\nAs for Optimzied forecast, it predicts the maximum sales of OF_MAX on OF_MAX_DATE and lowest sales recording OF_MIN at OF_MIN_DATE, the Optimzied forecast for this period predicts an average sales of OF_AVG.\\nThe Optimzied forecast year wise mean for years OF_START_YEAR to OP_END_YEAR are OF_YEARLY_AVG and the yearly trend for year OF_START_YEAR to OP_END_YEAR are OF_TREND.\\n\\nThe graph shows historical and forecasted sales data for the product PROD_ID for the LOC_ID. The historical data spans between SALES_HISTORY_SDATE and SALES_HISTORY_EDATE. The year wise average for the historical data is YEALRY_AVG and the yearly trend is TREND.\\nThe Finalized planner forecast predicts for the period PFS_YEAR to PFE_YEAR. It predicts highest sales of PMAX_SALES on PMAX_DATE and lowest sales of PMIN_SALES at PMIN_DATE. It shows year wise mean for years FP_START_YEAR to FP_END_YEAR is FPF_YEARLY_AVG and yearly TREND for the same period is FPS_TREND. \\nThe same way corrected forecast for this period predicts the peak sales of CF_MAX at CF_MAX_DATE and minimum sales recording CF_MIN on CF_MIN_DATE. For the Corrected forecast year wise mean for years CF_START_YEAR to CF_END_YEAR is CF_YEARLY_AVG and the yearly trend is CF_TREND. The corrected forecast predicts an average sales of CF_AVG for the same period.\\nFor Optimzied forecast, maximum sales are predicted at OF_MAX_DATE and minimum sales at OF_MIN_DATE. \\nThe year wise mean of Optimzied forecast for years OF_START_YEAR to OP_END_YEAR is OF_YEARLY_AVG and the yearly trend for year OF_START_YEAR to OP_END_YEAR are OF_TREND. The Optimzied forecast for this period predicts an average sales of OF_AVG.\\n\\nThe above line graph represents sales history and sales forecast for product PROD_ID for the LOC_ID. The sales history is from SALES_HISTORY_SDATE to SALES_HISTORY_EDATE. \\nIt shows it reached its peak of PEAK_VAL which was recorded at PEAK_DATE and recorded lowest sales of MINVAL at MINDATE. The average historical sales during this period was AVG_SALES. The year wise mean for years START_YEAR to END_YEAR are YEALRY_AVG and the yearly trend for year START_YEAR to END_YEAR are TREND.\\nThe Finalized planner forecast predicts the future sales for period PFS_YEAR to PFE_YEAR, it predicts the peak sales of PMAX_SALES on PMAX_DATE and minimum sales recording PMIN_SALES on PMIN_DATE. The finalized planner forecast predicts an average sales of FP_AVG for this period. For Finalized planner forecast the year wise mean for years FP_START_YEAR to FP_END_YEAR is FPF_YEARLY_AVG and the yearly TREND for year for the same period is FPS_TREND.\\nThe corrected forecast for this period predicts the maximum sales of CF_MAX at CF_MAX_DATE and lowest sales recording CF_MIN on CF_MIN_DATE. The corrected forecast predicts an average sales of CF_AVG for this period.\\nThe Corrected forecast year wise mean for years CF_START_YEAR to CF_END_YEAR are CF_YEARLY_AVG and the yearly trend for this period is CF_TREND.\\nOn the same line, Optimzied forecast predicts the maximum sales of OF_MAX on OF_MAX_DATE and lowest sales recording OF_MIN at OF_MIN_DATE, the Optimzied forecast for this period predicts an average sales of OF_AVG.\\nThe Optimzied forecast year wise mean for this period is OF_YEARLY_AVG and the yearly trend for year OF_START_YEAR to OP_END_YEAR is OF_TREND.\\n\\nThe line graph shows historical and forecasted sales data for the product PROD_ID at LOC_ID. The historical data spans from SALES_HISTORY_SDATE to SALES_HISTORY_EDATE. The year wise mean for the historical data is YEALRY_AVG and the yearly trend for the same period is TREND.\\nThe Finalized planner forecast predicts for the period PFS_YEAR to PFE_YEAR. It predicts highest sales of PMAX_SALES on PMAX_DATE and lowest sales of PMIN_SALES on PMIN_DATE. It shows year wise average as FPF_YEARLY_AVG and yearly TREND as FPS_TREND for the same period. \\nThe corrected forecast for this period predicts the peak sales of CF_MAX at CF_MAX_DATE and minimum sales recording CF_MIN on CF_MIN_DATE. For the Corrected forecast year wise mean for years CF_START_YEAR to CF_END_YEAR is CF_YEARLY_AVG and the yearly trend is CF_TREND. The corrected forecast predicts an average sales of CF_AVG for the same period.\\nSimilarly for Optimzied forecast, maximum sales are predicted on OF_MAX_DATE and minimum sales on OF_MIN_DATE. \\nThe year wise average of Optimzied forecast for years OF_START_YEAR to OP_END_YEAR is OF_YEARLY_AVG and the yearly trend is OF_TREND. It predicts an average sales of OF_AVG.\\n\\nThe above graph depicts sales history and sales forecast for product PROD_ID at LOC_ID.\\nThe sales history is taken into consideration is between SALES_HISTORY_SDATE and SALES_HISTORY_EDATE. \\nAs we can see in the graph it attained its peak of PEAK_VAL which was recorded at PEAK_DATE and recorded lowest sales of MINVAL at MINDATE.\\nThe average sales during this period was AVG_SALES.\\nThe year wise mean for years START_YEAR to END_YEAR are YEALRY_AVG and the yearly trend for year START_YEAR to END_YEAR are TREND.\\nThe Finalized planner forecast predicts the sales for upcoming period PFS_YEAR to PFE_YEAR, it predicts the maximum sales of PMAX_SALES on PMAX_DATE and lowest sales recording PMIN_SALES at PMIN_DATE.\\nThe finalized planner forecast predicts an average sales of FP_AVG for this period.\\nFor Finalized planner forecast the year wise mean for years FP_START_YEAR to FP_END_YEAR are FPF_YEARLY_AVG and the yearly trend is FPS_TREND.\\nIn similar fashion, the corrected forecast for this period predicts the maximum sales of CF_MAX on CF_MAX_DATE and lowest sales recording CF_MIN at CF_MIN_DATE. \\nThe corrected forecast predicts an average sales of CF_AVG for this period.\\nThe Corrected forecast year wise mean for years CF_START_YEAR to CF_END_YEAR are CF_YEARLY_AVG and the yearly trend for year CF_START_YEAR to CF_END_YEAR are CF_TREND.\\nAs for Optimzied forecast, it predicts the maximum sales of OF_MAX on OF_MAX_DATE and lowest sales recording OF_MIN at OF_MIN_DATE, the Optimzied forecast for this period predicts an average sales of OF_AVG. The Optimzied forecast year wise mean for years OF_START_YEAR to OP_END_YEAR are OF_YEARLY_AVG and the yearly trend is OF_TREND.\\n\\nThe above graph represents historical and forecasted sales data for the product PROD_ID for the LOC_ID. The historical sales data stretch from SALES_HISTORY_SDATE to SALES_HISTORY_EDATE. The year wise average for the historical data is YEALRY_AVG and the yearly trend is TREND.\\nThe Finalized planner forecast predicts for the period PFS_YEAR to PFE_YEAR. It predicts highest sales of PMAX_SALES on PMAX_DATE and lowest sales of PMIN_SALES at PMIN_DATE. It shows year wise mean for years FP_START_YEAR to FP_END_YEAR is FPF_YEARLY_AVG and yearly TREND for the same period is FPS_TREND. \\nThe same way corrected forecast for this period predicts the peak sales of CF_MAX at CF_MAX_DATE and minimum sales recording CF_MIN on CF_MIN_DATE. For the Corrected forecast year wise mean for years CF_START_YEAR to CF_END_YEAR is CF_YEARLY_AVG and the yearly trend is CF_TREND. The corrected forecast predicts an average sales of CF_AVG for the same period.\\nFor Optimzied forecast, maximum sales are predicted at OF_MAX_DATE and minimum sales at OF_MIN_DATE. \\nThe year wise mean of Optimzied forecast for years OF_START_YEAR to OP_END_YEAR is OF_YEARLY_AVG and the yearly trend for year OF_START_YEAR to OP_END_YEAR are OF_TREND. The Optimzied forecast for this period predicts an average sales of OF_AVG.\\n\\nThe above line graph depicts sales history and sales forecast for product PROD_ID for the LOC_ID. The sales history is from SALES_HISTORY_SDATE to SALES_HISTORY_EDATE. \\nIt shows it reached its peak of PEAK_VAL which was recorded at PEAK_DATE and recorded lowest sales of MINVAL at MINDATE. The average historical sales during this period was AVG_SALES. The year wise mean for years START_YEAR to END_YEAR are YEALRY_AVG and the yearly trend is TREND.\\nThe Finalized planner forecast predicts the future sales for period PFS_YEAR to PFE_YEAR, it predicts the peak sales of PMAX_SALES on PMAX_DATE and minimum sales recording PMIN_SALES on PMIN_DATE. The finalized planner forecast predicts an average sales of FP_AVG for this period. For Finalized planner forecast the year wise mean for years FP_START_YEAR to FP_END_YEAR is FPF_YEARLY_AVG and the yearly TREND for year for the same period is FPS_TREND.\\nThe corrected forecast for this period predicts the maximum sales of CF_MAX at CF_MAX_DATE and lowest sales recording CF_MIN on CF_MIN_DATE. The corrected forecast predicts an average sales of CF_AVG for this period.\\nThe Corrected forecast year wise mean for years CF_START_YEAR to CF_END_YEAR are CF_YEARLY_AVG and the yearly trend for this period is CF_TREND.\\nIn the similar way, Optimzied forecast predicts the maximum sales of OF_MAX on OF_MAX_DATE and lowest sales recording OF_MIN at OF_MIN_DATE, the Optimzied forecast for this period predicts an average sales of OF_AVG. The Optimzied forecast year wise mean for this period is OF_YEARLY_AVG and the yearly trend for year OF_START_YEAR to OP_END_YEAR is OF_TREND.\\n\\nThe line graph depicts historical and forecasted sales data for the product PROD_ID at LOC_ID. The historical data spans from SALES_HISTORY_SDATE to SALES_HISTORY_EDATE. The year wise mean for the historical data is YEALRY_AVG and the yearly trend for the same period is TREND.\\nThe Finalized planner forecast predicts for the period PFS_YEAR to PFE_YEAR. It predicts highest sales of PMAX_SALES on PMAX_DATE and lowest sales of PMIN_SALES on PMIN_DATE. It shows year wise average as FPF_YEARLY_AVG and yearly TREND as FPS_TREND for the same period. \\nThe corrected forecast for this period predicts the peak sales of CF_MAX at CF_MAX_DATE and minimum sales recording CF_MIN on CF_MIN_DATE. For the Corrected forecast year wise mean for years CF_START_YEAR to CF_END_YEAR is CF_YEARLY_AVG and the yearly trend is CF_TREND. The corrected forecast predicts an average sales of CF_AVG for the same period. Similarly for Optimzied forecast, maximum sales are predicted on OF_MAX_DATE and minimum sales on OF_MIN_DATE. \\nThe year wise average of Optimzied forecast for years OF_START_YEAR to OP_END_YEAR is OF_YEARLY_AVG and the yearly trend is OF_TREND. It predicts an average sales of OF_AVG.\\n\\nThe graph represents historical and forecasted sales data for the product PROD_ID at LOC_ID. The historical data spans from SALES_HISTORY_SDATE to SALES_HISTORY_EDATE. The year wise mean for the historical data is YEALRY_AVG and the yearly trend for the same period is TREND.\\nThe Finalized planner forecast predicts for the period PFS_YEAR to PFE_YEAR. It predicts highest sales of PMAX_SALES on PMAX_DATE and lowest sales of PMIN_SALES on PMIN_DATE. It shows year wise average as FPF_YEARLY_AVG and yearly TREND as FPS_TREND for the same period. \\nThe corrected forecast for this period predicts the peak sales of CF_MAX at CF_MAX_DATE and minimum sales recording CF_MIN on CF_MIN_DATE. For the Corrected forecast year wise mean for years CF_START_YEAR to CF_END_YEAR is CF_YEARLY_AVG and the yearly trend is CF_TREND. The corrected forecast predicts an average sales of CF_AVG for the same period. Similarly for Optimzied forecast, maximum sales are predicted on OF_MAX_DATE and minimum sales on OF_MIN_DATE. \\nThe year wise average of Optimzied forecast is OF_YEARLY_AVG and the yearly trend is OF_TREND. It predicts an average sales of OF_AVG.'"
      ]
     },
     "execution_count": 4,
     "metadata": {},
     "output_type": "execute_result"
    }
   ],
   "source": [
    "data"
   ]
  },
  {
   "cell_type": "code",
   "execution_count": 5,
   "metadata": {},
   "outputs": [],
   "source": [
    "chars = sorted(list(set(data)))\n",
    "char_to_int = dict((c, i) for i, c in enumerate(chars))"
   ]
  },
  {
   "cell_type": "code",
   "execution_count": 6,
   "metadata": {},
   "outputs": [
    {
     "name": "stdout",
     "output_type": "stream",
     "text": [
      "Total Characters:  12817\n",
      "Total Vocab:  49\n"
     ]
    }
   ],
   "source": [
    "\n",
    "n_chars = len(data)\n",
    "n_vocab = len(chars)\n",
    "print (\"Total Characters: \", n_chars)\n",
    "print (\"Total Vocab: \", n_vocab)\n"
   ]
  },
  {
   "cell_type": "code",
   "execution_count": 8,
   "metadata": {},
   "outputs": [
    {
     "name": "stdout",
     "output_type": "stream",
     "text": [
      "Total Patterns:  12717\n"
     ]
    }
   ],
   "source": [
    "seq_length = 100\n",
    "dataX = []\n",
    "dataY = []\n",
    "for i in range(0, n_chars - seq_length, 1):\n",
    "    seq_in = data[i:i + seq_length]\n",
    "    seq_out = data[i + seq_length]\n",
    "    dataX.append([char_to_int[char] for char in seq_in])\n",
    "    dataY.append(char_to_int[seq_out])\n",
    "n_patterns = len(dataX)\n",
    "print (\"Total Patterns: \", n_patterns)"
   ]
  },
  {
   "cell_type": "code",
   "execution_count": 10,
   "metadata": {},
   "outputs": [],
   "source": [
    "# reshape X to be [samples, time steps, features]\n",
    "X = np.reshape(dataX, (n_patterns, seq_length, 1))\n",
    "# normalize\n",
    "X = X / float(n_vocab)\n",
    "# one hot encode the output variable\n",
    "y = np_utils.to_categorical(dataY)"
   ]
  },
  {
   "cell_type": "code",
   "execution_count": 14,
   "metadata": {},
   "outputs": [],
   "source": [
    "model = Sequential()\n",
    "model.add(LSTM(256, input_shape=(X.shape[1], X.shape[2])))\n",
    "model.add(Dropout(0.2))\n",
    "model.add(Dense(y.shape[1], activation='softmax'))\n",
    "model.compile(loss='categorical_crossentropy', optimizer='adam')"
   ]
  },
  {
   "cell_type": "code",
   "execution_count": 20,
   "metadata": {},
   "outputs": [],
   "source": [
    "filepath=\"weights-improvement-{epoch:02d}-{loss:.4f}.hdf5\"\n",
    "checkpoint = ModelCheckpoint(filepath, monitor='loss', verbose=1, save_best_only=True, mode='min')\n",
    "callbacks_list = [checkpoint]"
   ]
  },
  {
   "cell_type": "code",
   "execution_count": 18,
   "metadata": {},
   "outputs": [
    {
     "name": "stderr",
     "output_type": "stream",
     "text": [
      "WARNING: Logging before flag parsing goes to stderr.\n",
      "W0913 16:30:46.301225  1928 deprecation.py:323] From C:\\D\\Installations\\Anaconda\\envs\\tensorflow_env\\lib\\site-packages\\tensorflow\\python\\ops\\math_grad.py:1250: add_dispatch_support.<locals>.wrapper (from tensorflow.python.ops.array_ops) is deprecated and will be removed in a future version.\n",
      "Instructions for updating:\n",
      "Use tf.where in 2.0, which has the same broadcast rule as np.where\n"
     ]
    },
    {
     "name": "stdout",
     "output_type": "stream",
     "text": [
      "Train on 12717 samples\n",
      "Epoch 1/20\n",
      "11776/12717 [==========================>...] - ETA: 5s - loss: 3.4244"
     ]
    },
    {
     "ename": "KeyboardInterrupt",
     "evalue": "",
     "output_type": "error",
     "traceback": [
      "\u001b[1;31m---------------------------------------------------------------------------\u001b[0m",
      "\u001b[1;31mKeyboardInterrupt\u001b[0m                         Traceback (most recent call last)",
      "\u001b[1;32m<ipython-input-18-2a61ae718648>\u001b[0m in \u001b[0;36m<module>\u001b[1;34m\u001b[0m\n\u001b[1;32m----> 1\u001b[1;33m \u001b[0mmodel\u001b[0m\u001b[1;33m.\u001b[0m\u001b[0mfit\u001b[0m\u001b[1;33m(\u001b[0m\u001b[0mX\u001b[0m\u001b[1;33m,\u001b[0m \u001b[0my\u001b[0m\u001b[1;33m,\u001b[0m \u001b[0mepochs\u001b[0m\u001b[1;33m=\u001b[0m\u001b[1;36m20\u001b[0m\u001b[1;33m,\u001b[0m \u001b[0mbatch_size\u001b[0m\u001b[1;33m=\u001b[0m\u001b[1;36m128\u001b[0m\u001b[1;33m,\u001b[0m \u001b[0mcallbacks\u001b[0m\u001b[1;33m=\u001b[0m\u001b[0mcallbacks_list\u001b[0m\u001b[1;33m)\u001b[0m\u001b[1;33m\u001b[0m\u001b[1;33m\u001b[0m\u001b[0m\n\u001b[0m",
      "\u001b[1;32mC:\\D\\Installations\\Anaconda\\envs\\tensorflow_env\\lib\\site-packages\\tensorflow\\python\\keras\\engine\\training.py\u001b[0m in \u001b[0;36mfit\u001b[1;34m(self, x, y, batch_size, epochs, verbose, callbacks, validation_split, validation_data, shuffle, class_weight, sample_weight, initial_epoch, steps_per_epoch, validation_steps, validation_freq, max_queue_size, workers, use_multiprocessing, **kwargs)\u001b[0m\n\u001b[0;32m    641\u001b[0m         \u001b[0mmax_queue_size\u001b[0m\u001b[1;33m=\u001b[0m\u001b[0mmax_queue_size\u001b[0m\u001b[1;33m,\u001b[0m\u001b[1;33m\u001b[0m\u001b[1;33m\u001b[0m\u001b[0m\n\u001b[0;32m    642\u001b[0m         \u001b[0mworkers\u001b[0m\u001b[1;33m=\u001b[0m\u001b[0mworkers\u001b[0m\u001b[1;33m,\u001b[0m\u001b[1;33m\u001b[0m\u001b[1;33m\u001b[0m\u001b[0m\n\u001b[1;32m--> 643\u001b[1;33m         use_multiprocessing=use_multiprocessing)\n\u001b[0m\u001b[0;32m    644\u001b[0m \u001b[1;33m\u001b[0m\u001b[0m\n\u001b[0;32m    645\u001b[0m   def evaluate(self,\n",
      "\u001b[1;32mC:\\D\\Installations\\Anaconda\\envs\\tensorflow_env\\lib\\site-packages\\tensorflow\\python\\keras\\engine\\training_arrays.py\u001b[0m in \u001b[0;36mfit\u001b[1;34m(self, model, x, y, batch_size, epochs, verbose, callbacks, validation_split, validation_data, shuffle, class_weight, sample_weight, initial_epoch, steps_per_epoch, validation_steps, validation_freq, **kwargs)\u001b[0m\n\u001b[0;32m    662\u001b[0m         \u001b[0mvalidation_steps\u001b[0m\u001b[1;33m=\u001b[0m\u001b[0mvalidation_steps\u001b[0m\u001b[1;33m,\u001b[0m\u001b[1;33m\u001b[0m\u001b[1;33m\u001b[0m\u001b[0m\n\u001b[0;32m    663\u001b[0m         \u001b[0mvalidation_freq\u001b[0m\u001b[1;33m=\u001b[0m\u001b[0mvalidation_freq\u001b[0m\u001b[1;33m,\u001b[0m\u001b[1;33m\u001b[0m\u001b[1;33m\u001b[0m\u001b[0m\n\u001b[1;32m--> 664\u001b[1;33m         steps_name='steps_per_epoch')\n\u001b[0m\u001b[0;32m    665\u001b[0m \u001b[1;33m\u001b[0m\u001b[0m\n\u001b[0;32m    666\u001b[0m   def evaluate(self,\n",
      "\u001b[1;32mC:\\D\\Installations\\Anaconda\\envs\\tensorflow_env\\lib\\site-packages\\tensorflow\\python\\keras\\engine\\training_arrays.py\u001b[0m in \u001b[0;36mmodel_iteration\u001b[1;34m(model, inputs, targets, sample_weights, batch_size, epochs, verbose, callbacks, val_inputs, val_targets, val_sample_weights, shuffle, initial_epoch, steps_per_epoch, validation_steps, validation_freq, mode, validation_in_fit, prepared_feed_values_from_dataset, steps_name, **kwargs)\u001b[0m\n\u001b[0;32m    381\u001b[0m \u001b[1;33m\u001b[0m\u001b[0m\n\u001b[0;32m    382\u001b[0m         \u001b[1;31m# Get outputs.\u001b[0m\u001b[1;33m\u001b[0m\u001b[1;33m\u001b[0m\u001b[1;33m\u001b[0m\u001b[0m\n\u001b[1;32m--> 383\u001b[1;33m         \u001b[0mbatch_outs\u001b[0m \u001b[1;33m=\u001b[0m \u001b[0mf\u001b[0m\u001b[1;33m(\u001b[0m\u001b[0mins_batch\u001b[0m\u001b[1;33m)\u001b[0m\u001b[1;33m\u001b[0m\u001b[1;33m\u001b[0m\u001b[0m\n\u001b[0m\u001b[0;32m    384\u001b[0m         \u001b[1;32mif\u001b[0m \u001b[1;32mnot\u001b[0m \u001b[0misinstance\u001b[0m\u001b[1;33m(\u001b[0m\u001b[0mbatch_outs\u001b[0m\u001b[1;33m,\u001b[0m \u001b[0mlist\u001b[0m\u001b[1;33m)\u001b[0m\u001b[1;33m:\u001b[0m\u001b[1;33m\u001b[0m\u001b[1;33m\u001b[0m\u001b[0m\n\u001b[0;32m    385\u001b[0m           \u001b[0mbatch_outs\u001b[0m \u001b[1;33m=\u001b[0m \u001b[1;33m[\u001b[0m\u001b[0mbatch_outs\u001b[0m\u001b[1;33m]\u001b[0m\u001b[1;33m\u001b[0m\u001b[1;33m\u001b[0m\u001b[0m\n",
      "\u001b[1;32mC:\\D\\Installations\\Anaconda\\envs\\tensorflow_env\\lib\\site-packages\\tensorflow\\python\\keras\\backend.py\u001b[0m in \u001b[0;36m__call__\u001b[1;34m(self, inputs)\u001b[0m\n\u001b[0;32m   3508\u001b[0m         \u001b[0mvalue\u001b[0m \u001b[1;33m=\u001b[0m \u001b[0mmath_ops\u001b[0m\u001b[1;33m.\u001b[0m\u001b[0mcast\u001b[0m\u001b[1;33m(\u001b[0m\u001b[0mvalue\u001b[0m\u001b[1;33m,\u001b[0m \u001b[0mtensor\u001b[0m\u001b[1;33m.\u001b[0m\u001b[0mdtype\u001b[0m\u001b[1;33m)\u001b[0m\u001b[1;33m\u001b[0m\u001b[1;33m\u001b[0m\u001b[0m\n\u001b[0;32m   3509\u001b[0m       \u001b[0mconverted_inputs\u001b[0m\u001b[1;33m.\u001b[0m\u001b[0mappend\u001b[0m\u001b[1;33m(\u001b[0m\u001b[0mvalue\u001b[0m\u001b[1;33m)\u001b[0m\u001b[1;33m\u001b[0m\u001b[1;33m\u001b[0m\u001b[0m\n\u001b[1;32m-> 3510\u001b[1;33m     \u001b[0moutputs\u001b[0m \u001b[1;33m=\u001b[0m \u001b[0mself\u001b[0m\u001b[1;33m.\u001b[0m\u001b[0m_graph_fn\u001b[0m\u001b[1;33m(\u001b[0m\u001b[1;33m*\u001b[0m\u001b[0mconverted_inputs\u001b[0m\u001b[1;33m)\u001b[0m\u001b[1;33m\u001b[0m\u001b[1;33m\u001b[0m\u001b[0m\n\u001b[0m\u001b[0;32m   3511\u001b[0m \u001b[1;33m\u001b[0m\u001b[0m\n\u001b[0;32m   3512\u001b[0m     \u001b[1;31m# EagerTensor.numpy() will often make a copy to ensure memory safety.\u001b[0m\u001b[1;33m\u001b[0m\u001b[1;33m\u001b[0m\u001b[1;33m\u001b[0m\u001b[0m\n",
      "\u001b[1;32mC:\\D\\Installations\\Anaconda\\envs\\tensorflow_env\\lib\\site-packages\\tensorflow\\python\\eager\\function.py\u001b[0m in \u001b[0;36m__call__\u001b[1;34m(self, *args, **kwargs)\u001b[0m\n\u001b[0;32m    570\u001b[0m       raise TypeError(\"Keyword arguments {} unknown. Expected {}.\".format(\n\u001b[0;32m    571\u001b[0m           list(kwargs.keys()), list(self._arg_keywords)))\n\u001b[1;32m--> 572\u001b[1;33m     \u001b[1;32mreturn\u001b[0m \u001b[0mself\u001b[0m\u001b[1;33m.\u001b[0m\u001b[0m_call_flat\u001b[0m\u001b[1;33m(\u001b[0m\u001b[0margs\u001b[0m\u001b[1;33m)\u001b[0m\u001b[1;33m\u001b[0m\u001b[1;33m\u001b[0m\u001b[0m\n\u001b[0m\u001b[0;32m    573\u001b[0m \u001b[1;33m\u001b[0m\u001b[0m\n\u001b[0;32m    574\u001b[0m   \u001b[1;32mdef\u001b[0m \u001b[0m_filtered_call\u001b[0m\u001b[1;33m(\u001b[0m\u001b[0mself\u001b[0m\u001b[1;33m,\u001b[0m \u001b[0margs\u001b[0m\u001b[1;33m,\u001b[0m \u001b[0mkwargs\u001b[0m\u001b[1;33m)\u001b[0m\u001b[1;33m:\u001b[0m\u001b[1;33m\u001b[0m\u001b[1;33m\u001b[0m\u001b[0m\n",
      "\u001b[1;32mC:\\D\\Installations\\Anaconda\\envs\\tensorflow_env\\lib\\site-packages\\tensorflow\\python\\eager\\function.py\u001b[0m in \u001b[0;36m_call_flat\u001b[1;34m(self, args)\u001b[0m\n\u001b[0;32m    669\u001b[0m     \u001b[1;31m# Only need to override the gradient in graph mode and when we have outputs.\u001b[0m\u001b[1;33m\u001b[0m\u001b[1;33m\u001b[0m\u001b[1;33m\u001b[0m\u001b[0m\n\u001b[0;32m    670\u001b[0m     \u001b[1;32mif\u001b[0m \u001b[0mcontext\u001b[0m\u001b[1;33m.\u001b[0m\u001b[0mexecuting_eagerly\u001b[0m\u001b[1;33m(\u001b[0m\u001b[1;33m)\u001b[0m \u001b[1;32mor\u001b[0m \u001b[1;32mnot\u001b[0m \u001b[0mself\u001b[0m\u001b[1;33m.\u001b[0m\u001b[0moutputs\u001b[0m\u001b[1;33m:\u001b[0m\u001b[1;33m\u001b[0m\u001b[1;33m\u001b[0m\u001b[0m\n\u001b[1;32m--> 671\u001b[1;33m       \u001b[0moutputs\u001b[0m \u001b[1;33m=\u001b[0m \u001b[0mself\u001b[0m\u001b[1;33m.\u001b[0m\u001b[0m_inference_function\u001b[0m\u001b[1;33m.\u001b[0m\u001b[0mcall\u001b[0m\u001b[1;33m(\u001b[0m\u001b[0mctx\u001b[0m\u001b[1;33m,\u001b[0m \u001b[0margs\u001b[0m\u001b[1;33m)\u001b[0m\u001b[1;33m\u001b[0m\u001b[1;33m\u001b[0m\u001b[0m\n\u001b[0m\u001b[0;32m    672\u001b[0m     \u001b[1;32melse\u001b[0m\u001b[1;33m:\u001b[0m\u001b[1;33m\u001b[0m\u001b[1;33m\u001b[0m\u001b[0m\n\u001b[0;32m    673\u001b[0m       \u001b[0mself\u001b[0m\u001b[1;33m.\u001b[0m\u001b[0m_register_gradient\u001b[0m\u001b[1;33m(\u001b[0m\u001b[1;33m)\u001b[0m\u001b[1;33m\u001b[0m\u001b[1;33m\u001b[0m\u001b[0m\n",
      "\u001b[1;32mC:\\D\\Installations\\Anaconda\\envs\\tensorflow_env\\lib\\site-packages\\tensorflow\\python\\eager\\function.py\u001b[0m in \u001b[0;36mcall\u001b[1;34m(self, ctx, args)\u001b[0m\n\u001b[0;32m    443\u001b[0m             attrs=(\"executor_type\", executor_type,\n\u001b[0;32m    444\u001b[0m                    \"config_proto\", config),\n\u001b[1;32m--> 445\u001b[1;33m             ctx=ctx)\n\u001b[0m\u001b[0;32m    446\u001b[0m       \u001b[1;31m# Replace empty list with None\u001b[0m\u001b[1;33m\u001b[0m\u001b[1;33m\u001b[0m\u001b[1;33m\u001b[0m\u001b[0m\n\u001b[0;32m    447\u001b[0m       \u001b[0moutputs\u001b[0m \u001b[1;33m=\u001b[0m \u001b[0moutputs\u001b[0m \u001b[1;32mor\u001b[0m \u001b[1;32mNone\u001b[0m\u001b[1;33m\u001b[0m\u001b[1;33m\u001b[0m\u001b[0m\n",
      "\u001b[1;32mC:\\D\\Installations\\Anaconda\\envs\\tensorflow_env\\lib\\site-packages\\tensorflow\\python\\eager\\execute.py\u001b[0m in \u001b[0;36mquick_execute\u001b[1;34m(op_name, num_outputs, inputs, attrs, ctx, name)\u001b[0m\n\u001b[0;32m     59\u001b[0m     tensors = pywrap_tensorflow.TFE_Py_Execute(ctx._handle, device_name,\n\u001b[0;32m     60\u001b[0m                                                \u001b[0mop_name\u001b[0m\u001b[1;33m,\u001b[0m \u001b[0minputs\u001b[0m\u001b[1;33m,\u001b[0m \u001b[0mattrs\u001b[0m\u001b[1;33m,\u001b[0m\u001b[1;33m\u001b[0m\u001b[1;33m\u001b[0m\u001b[0m\n\u001b[1;32m---> 61\u001b[1;33m                                                num_outputs)\n\u001b[0m\u001b[0;32m     62\u001b[0m   \u001b[1;32mexcept\u001b[0m \u001b[0mcore\u001b[0m\u001b[1;33m.\u001b[0m\u001b[0m_NotOkStatusException\u001b[0m \u001b[1;32mas\u001b[0m \u001b[0me\u001b[0m\u001b[1;33m:\u001b[0m\u001b[1;33m\u001b[0m\u001b[1;33m\u001b[0m\u001b[0m\n\u001b[0;32m     63\u001b[0m     \u001b[1;32mif\u001b[0m \u001b[0mname\u001b[0m \u001b[1;32mis\u001b[0m \u001b[1;32mnot\u001b[0m \u001b[1;32mNone\u001b[0m\u001b[1;33m:\u001b[0m\u001b[1;33m\u001b[0m\u001b[1;33m\u001b[0m\u001b[0m\n",
      "\u001b[1;31mKeyboardInterrupt\u001b[0m: "
     ]
    }
   ],
   "source": [
    "model.fit(X, y, epochs=20, batch_size=128, callbacks=callbacks_list)"
   ]
  },
  {
   "cell_type": "code",
   "execution_count": null,
   "metadata": {},
   "outputs": [],
   "source": [
    "filename = \"weights-improvement-19-1.9435.hdf5\"\n",
    "model.load_weights(filename)\n",
    "model.compile(loss='categorical_crossentropy', optimizer='adam')"
   ]
  },
  {
   "cell_type": "code",
   "execution_count": null,
   "metadata": {},
   "outputs": [],
   "source": []
  },
  {
   "cell_type": "code",
   "execution_count": null,
   "metadata": {},
   "outputs": [],
   "source": []
  },
  {
   "cell_type": "code",
   "execution_count": null,
   "metadata": {},
   "outputs": [],
   "source": []
  },
  {
   "cell_type": "code",
   "execution_count": null,
   "metadata": {},
   "outputs": [],
   "source": []
  },
  {
   "cell_type": "code",
   "execution_count": null,
   "metadata": {},
   "outputs": [],
   "source": []
  },
  {
   "cell_type": "code",
   "execution_count": null,
   "metadata": {},
   "outputs": [],
   "source": []
  },
  {
   "cell_type": "code",
   "execution_count": null,
   "metadata": {},
   "outputs": [],
   "source": []
  },
  {
   "cell_type": "code",
   "execution_count": null,
   "metadata": {},
   "outputs": [],
   "source": []
  },
  {
   "cell_type": "code",
   "execution_count": null,
   "metadata": {},
   "outputs": [],
   "source": []
  }
 ],
 "metadata": {
  "kernelspec": {
   "display_name": "Python 3",
   "language": "python",
   "name": "python3"
  },
  "language_info": {
   "codemirror_mode": {
    "name": "ipython",
    "version": 3
   },
   "file_extension": ".py",
   "mimetype": "text/x-python",
   "name": "python",
   "nbconvert_exporter": "python",
   "pygments_lexer": "ipython3",
   "version": "3.7.1"
  }
 },
 "nbformat": 4,
 "nbformat_minor": 2
}
